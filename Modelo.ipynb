{
 "cells": [
  {
   "cell_type": "code",
   "execution_count": 1,
   "metadata": {
    "collapsed": true,
    "pycharm": {
     "is_executing": false
    }
   },
   "outputs": [
    {
     "name": "stderr",
     "text": [
      "/Users/usuario/PycharmProjects/Churn/venv/lib/python3.7/site-packages/networkx/classes/graph.py:23: DeprecationWarning: Using or importing the ABCs from 'collections' instead of from 'collections.abc' is deprecated, and in 3.8 it will stop working\n",
      "  from collections import Mapping\n",
      "/Users/usuario/PycharmProjects/Churn/venv/lib/python3.7/site-packages/networkx/classes/reportviews.py:95: DeprecationWarning: Using or importing the ABCs from 'collections' instead of from 'collections.abc' is deprecated, and in 3.8 it will stop working\n",
      "  from collections import Mapping, Set, Iterable\n"
     ],
     "output_type": "stream"
    }
   ],
   "source": [
    "import time\n",
    "import joblib\n",
    "import numpy as np\n",
    "import pandas as pd\n",
    "import mlflow.sklearn\n",
    "from classification_model.preprocessing import ColumnSelector, ConvertDtypes, \\\n",
    "                                               GetDummies, GetDataFrame, Mapper\n",
    "from classification_model.config import NUMERICAL_FEATURES, CATEGORICAL_FEATURES, \\\n",
    "                                        FEATURES, TARGET, MAP, SEED\n",
    "from classification_model.evaluation import confusion_matrix, metrics_summary\n",
    "from imblearn.over_sampling import SMOTE\n",
    "from sklearn.preprocessing import StandardScaler\n",
    "from sklearn.model_selection import train_test_split\n",
    "from sklearn.linear_model import LogisticRegression\n",
    "from sklearn.ensemble import RandomForestClassifier, GradientBoostingClassifier\n",
    "from sklearn.pipeline import Pipeline, FeatureUnion\n",
    "from sklearn.metrics import precision_score, recall_score, f1_score, roc_auc_score\n",
    "from sklearn.model_selection import cross_val_score\n",
    "from hyperopt import fmin, tpe, hp, Trials\n",
    "from xgboost import XGBClassifier\n",
    "import warnings\n",
    "\n",
    "warnings.filterwarnings('ignore')\n",
    "\n",
    "experiment_name = 'churn'\n",
    "mlflow.set_experiment(experiment_name)\n",
    "\n",
    "pd.set_option('max_columns', 500)\n",
    "pd.set_option('max_rows', 500)"
   ]
  },
  {
   "cell_type": "code",
   "execution_count": 2,
   "outputs": [
    {
     "data": {
      "text/plain": "     state  account length  area code  phone number international plan  \\\n0       12           102.0        510           234                  0   \n1       25            70.0        510          2558                  0   \n2        7            88.0        408           753                  0   \n3997    24           138.0        415          4239                  0   \n3998    15           117.0        415          1492                  1   \n3999     1            85.0        415          2163                  0   \n\n     voice mail plan  number vmail messages  total day minutes  \\\n0                  0                    0.0              171.5   \n1                  0                    0.0              147.1   \n2                  0                    0.0              204.8   \n3997               1                   29.0              190.1   \n3998               1                   22.0              196.0   \n3999               0                    0.0              210.3   \n\n      total day calls  total day charge  total eve minutes  total eve calls  \\\n0                77.0             29.16              261.0            107.0   \n1               105.0             25.01              200.0            135.0   \n2               100.0             34.82              193.9             98.0   \n3997             87.0             32.32              223.2            123.0   \n3998             82.0             33.32              322.7             82.0   \n3999             66.0             35.75              195.8             76.0   \n\n      total eve charge  total night minutes  total night calls  \\\n0                22.19                328.8               72.0   \n1                17.00                234.9               65.0   \n2                16.48                190.9               62.0   \n3997             18.97                256.2              130.0   \n3998             27.43                225.6              120.0   \n3999             16.64                221.6               82.0   \n\n      total night charge  total intl minutes  total intl calls  \\\n0                  14.80                10.2               1.0   \n1                  10.57                12.5               9.0   \n2                   8.59                 2.0              11.0   \n3997               11.53                14.2               6.0   \n3998               10.15                 3.7               5.0   \n3999                9.97                11.2               7.0   \n\n      total intl charge  number customer service calls  target  \n0                  2.75                            0.0       0  \n1                  3.38                            3.0       0  \n2                  0.54                            1.0       0  \n3997               3.83                            0.0       0  \n3998               1.00                            1.0       0  \n3999               3.02                            1.0       0  ",
      "text/html": "<div>\n<style scoped>\n    .dataframe tbody tr th:only-of-type {\n        vertical-align: middle;\n    }\n\n    .dataframe tbody tr th {\n        vertical-align: top;\n    }\n\n    .dataframe thead th {\n        text-align: right;\n    }\n</style>\n<table border=\"1\" class=\"dataframe\">\n  <thead>\n    <tr style=\"text-align: right;\">\n      <th></th>\n      <th>state</th>\n      <th>account length</th>\n      <th>area code</th>\n      <th>phone number</th>\n      <th>international plan</th>\n      <th>voice mail plan</th>\n      <th>number vmail messages</th>\n      <th>total day minutes</th>\n      <th>total day calls</th>\n      <th>total day charge</th>\n      <th>total eve minutes</th>\n      <th>total eve calls</th>\n      <th>total eve charge</th>\n      <th>total night minutes</th>\n      <th>total night calls</th>\n      <th>total night charge</th>\n      <th>total intl minutes</th>\n      <th>total intl calls</th>\n      <th>total intl charge</th>\n      <th>number customer service calls</th>\n      <th>target</th>\n    </tr>\n  </thead>\n  <tbody>\n    <tr>\n      <th>0</th>\n      <td>12</td>\n      <td>102.0</td>\n      <td>510</td>\n      <td>234</td>\n      <td>0</td>\n      <td>0</td>\n      <td>0.0</td>\n      <td>171.5</td>\n      <td>77.0</td>\n      <td>29.16</td>\n      <td>261.0</td>\n      <td>107.0</td>\n      <td>22.19</td>\n      <td>328.8</td>\n      <td>72.0</td>\n      <td>14.80</td>\n      <td>10.2</td>\n      <td>1.0</td>\n      <td>2.75</td>\n      <td>0.0</td>\n      <td>0</td>\n    </tr>\n    <tr>\n      <th>1</th>\n      <td>25</td>\n      <td>70.0</td>\n      <td>510</td>\n      <td>2558</td>\n      <td>0</td>\n      <td>0</td>\n      <td>0.0</td>\n      <td>147.1</td>\n      <td>105.0</td>\n      <td>25.01</td>\n      <td>200.0</td>\n      <td>135.0</td>\n      <td>17.00</td>\n      <td>234.9</td>\n      <td>65.0</td>\n      <td>10.57</td>\n      <td>12.5</td>\n      <td>9.0</td>\n      <td>3.38</td>\n      <td>3.0</td>\n      <td>0</td>\n    </tr>\n    <tr>\n      <th>2</th>\n      <td>7</td>\n      <td>88.0</td>\n      <td>408</td>\n      <td>753</td>\n      <td>0</td>\n      <td>0</td>\n      <td>0.0</td>\n      <td>204.8</td>\n      <td>100.0</td>\n      <td>34.82</td>\n      <td>193.9</td>\n      <td>98.0</td>\n      <td>16.48</td>\n      <td>190.9</td>\n      <td>62.0</td>\n      <td>8.59</td>\n      <td>2.0</td>\n      <td>11.0</td>\n      <td>0.54</td>\n      <td>1.0</td>\n      <td>0</td>\n    </tr>\n    <tr>\n      <th>3997</th>\n      <td>24</td>\n      <td>138.0</td>\n      <td>415</td>\n      <td>4239</td>\n      <td>0</td>\n      <td>1</td>\n      <td>29.0</td>\n      <td>190.1</td>\n      <td>87.0</td>\n      <td>32.32</td>\n      <td>223.2</td>\n      <td>123.0</td>\n      <td>18.97</td>\n      <td>256.2</td>\n      <td>130.0</td>\n      <td>11.53</td>\n      <td>14.2</td>\n      <td>6.0</td>\n      <td>3.83</td>\n      <td>0.0</td>\n      <td>0</td>\n    </tr>\n    <tr>\n      <th>3998</th>\n      <td>15</td>\n      <td>117.0</td>\n      <td>415</td>\n      <td>1492</td>\n      <td>1</td>\n      <td>1</td>\n      <td>22.0</td>\n      <td>196.0</td>\n      <td>82.0</td>\n      <td>33.32</td>\n      <td>322.7</td>\n      <td>82.0</td>\n      <td>27.43</td>\n      <td>225.6</td>\n      <td>120.0</td>\n      <td>10.15</td>\n      <td>3.7</td>\n      <td>5.0</td>\n      <td>1.00</td>\n      <td>1.0</td>\n      <td>0</td>\n    </tr>\n    <tr>\n      <th>3999</th>\n      <td>1</td>\n      <td>85.0</td>\n      <td>415</td>\n      <td>2163</td>\n      <td>0</td>\n      <td>0</td>\n      <td>0.0</td>\n      <td>210.3</td>\n      <td>66.0</td>\n      <td>35.75</td>\n      <td>195.8</td>\n      <td>76.0</td>\n      <td>16.64</td>\n      <td>221.6</td>\n      <td>82.0</td>\n      <td>9.97</td>\n      <td>11.2</td>\n      <td>7.0</td>\n      <td>3.02</td>\n      <td>1.0</td>\n      <td>0</td>\n    </tr>\n  </tbody>\n</table>\n</div>"
     },
     "metadata": {},
     "output_type": "execute_result",
     "execution_count": 2
    }
   ],
   "source": [
    "dtypes = {'state': 'category', 'area code': int, 'international plan': 'category',\n",
    "          'voice mail plan': 'category'}\n",
    "data = pd.read_csv('data/train.csv', sep=';', dtype=dtypes)\n",
    "data.head(3).append(data.tail(3))"
   ],
   "metadata": {
    "collapsed": false,
    "pycharm": {
     "name": "#%%\n",
     "is_executing": false
    }
   }
  },
  {
   "cell_type": "code",
   "execution_count": 3,
   "outputs": [
    {
     "name": "stdout",
     "text": [
      "<class 'pandas.core.frame.DataFrame'>\n",
      "RangeIndex: 4000 entries, 0 to 3999\n",
      "Data columns (total 21 columns):\n",
      "state                            4000 non-null category\n",
      "account length                   4000 non-null float64\n",
      "area code                        4000 non-null int64\n",
      "phone number                     4000 non-null int64\n",
      "international plan               4000 non-null category\n",
      "voice mail plan                  4000 non-null category\n",
      "number vmail messages            4000 non-null float64\n",
      "total day minutes                4000 non-null float64\n",
      "total day calls                  4000 non-null float64\n",
      "total day charge                 4000 non-null float64\n",
      "total eve minutes                4000 non-null float64\n",
      "total eve calls                  4000 non-null float64\n",
      "total eve charge                 4000 non-null float64\n",
      "total night minutes              4000 non-null float64\n",
      "total night calls                4000 non-null float64\n",
      "total night charge               4000 non-null float64\n",
      "total intl minutes               4000 non-null float64\n",
      "total intl calls                 4000 non-null float64\n",
      "total intl charge                4000 non-null float64\n",
      "number customer service calls    4000 non-null float64\n",
      "target                           4000 non-null int64\n",
      "dtypes: category(3), float64(15), int64(3)\n",
      "memory usage: 577.3 KB\n"
     ],
     "output_type": "stream"
    }
   ],
   "source": [
    "data.info()"
   ],
   "metadata": {
    "collapsed": false,
    "pycharm": {
     "name": "#%%\n",
     "is_executing": false
    }
   }
  },
  {
   "cell_type": "code",
   "execution_count": 4,
   "outputs": [],
   "source": [
    "global_transformation = Pipeline([('selector', ColumnSelector(columns=NUMERICAL_FEATURES + CATEGORICAL_FEATURES)),\n",
    "                                  ('map_1', Mapper(column='international plan', map=MAP)),\n",
    "                                  ('map_2', Mapper(column='voice mail plan', map=MAP)),\n",
    "                                  ('convert_dtypes', ConvertDtypes(numerical=NUMERICAL_FEATURES,\n",
    "                                                                   categorical=CATEGORICAL_FEATURES))])\n",
    "\n",
    "numerical_transformations = Pipeline([('selector', ColumnSelector(columns=NUMERICAL_FEATURES)),\n",
    "                                      ('standar', StandardScaler()),\n",
    "                                      ('dataframe', GetDataFrame(columns=NUMERICAL_FEATURES))])\n",
    "\n",
    "categorical_transformations = Pipeline([('selector', ColumnSelector(columns=CATEGORICAL_FEATURES)),\n",
    "                                        ('ohe', GetDummies(columns=CATEGORICAL_FEATURES))])"
   ],
   "metadata": {
    "collapsed": false,
    "pycharm": {
     "name": "#%%\n",
     "is_executing": false
    }
   }
  },
  {
   "cell_type": "code",
   "execution_count": 5,
   "outputs": [],
   "source": [
    "preprocessing = Pipeline([('global', global_transformation),\n",
    "                          ('features', FeatureUnion([\n",
    "                              ('numeric', numerical_transformations),\n",
    "                              ('category', categorical_transformations)\n",
    "                          ])),\n",
    "                          ('dataframe', GetDataFrame(columns=FEATURES))])"
   ],
   "metadata": {
    "collapsed": false,
    "pycharm": {
     "name": "#%%\n",
     "is_executing": false
    }
   }
  },
  {
   "cell_type": "markdown",
   "source": [
    "## Construcción de los modelos"
   ],
   "metadata": {
    "collapsed": false,
    "pycharm": {
     "name": "#%% md\n"
    }
   }
  },
  {
   "cell_type": "code",
   "execution_count": 6,
   "outputs": [
    {
     "name": "stdout",
     "text": [
      "El conjunto de entranamiento tiene 3200 observaciones, y 20 variables\n",
      "El conjunto de validación tiene 800 observaciones, y 20 variables\n"
     ],
     "output_type": "stream"
    }
   ],
   "source": [
    "label = data.pop(TARGET)\n",
    "\n",
    "X = data\n",
    "y = label\n",
    "\n",
    "X_train, X_valid, y_train, y_valid = train_test_split(X, y, test_size=0.2,\n",
    "                                                      random_state=SEED, stratify=label)\n",
    "\n",
    "print('El conjunto de entranamiento tiene {} observaciones, y {} variables'.format(X_train.shape[0],\n",
    "                                                                                            X_train.shape[1]))\n",
    "print('El conjunto de validación tiene {} observaciones, y {} variables'.format(X_valid.shape[0],\n",
    "                                                                            X_valid.shape[1]))"
   ],
   "metadata": {
    "collapsed": false,
    "pycharm": {
     "name": "#%%\n",
     "is_executing": false
    }
   }
  },
  {
   "cell_type": "markdown",
   "source": [
    "### Regresión Logística"
   ],
   "metadata": {
    "collapsed": false,
    "pycharm": {
     "name": "#%% md\n"
    }
   }
  },
  {
   "cell_type": "code",
   "execution_count": 7,
   "outputs": [
    {
     "name": "stdout",
     "text": [
      "El área bajo la curva ROC es: 0.5406087774213909\n",
      "La exactitud es: 0.865\n",
      "La precisión es: 0.6666666666666666\n",
      "El recall es: 0.08849557522123894\n",
      "El puntaje F1 es: 0.15625 \n",
      "\n"
     ],
     "output_type": "stream"
    },
    {
     "data": {
      "text/plain": "Predicted     0     1\nObserved             \n0          0.99  0.01\n1          0.91  0.09",
      "text/html": "<div>\n<style scoped>\n    .dataframe tbody tr th:only-of-type {\n        vertical-align: middle;\n    }\n\n    .dataframe tbody tr th {\n        vertical-align: top;\n    }\n\n    .dataframe thead th {\n        text-align: right;\n    }\n</style>\n<table border=\"1\" class=\"dataframe\">\n  <thead>\n    <tr style=\"text-align: right;\">\n      <th>Predicted</th>\n      <th>0</th>\n      <th>1</th>\n    </tr>\n    <tr>\n      <th>Observed</th>\n      <th></th>\n      <th></th>\n    </tr>\n  </thead>\n  <tbody>\n    <tr>\n      <th>0</th>\n      <td>0.99</td>\n      <td>0.01</td>\n    </tr>\n    <tr>\n      <th>1</th>\n      <td>0.91</td>\n      <td>0.09</td>\n    </tr>\n  </tbody>\n</table>\n</div>"
     },
     "metadata": {},
     "output_type": "execute_result",
     "execution_count": 7
    }
   ],
   "source": [
    "params = {\n",
    "    'penalty': 'l2',\n",
    "    'random_state': SEED\n",
    "}\n",
    "\n",
    "with mlflow.start_run(run_name='logistic regression'):\n",
    "    # fit\n",
    "    start_fit = time.time()\n",
    "    lr = Pipeline([('preprocessing', preprocessing),\n",
    "                   ('estimator', LogisticRegression(**params))]).fit(X_train, y_train)\n",
    "    end_fit = time.time() - start_fit\n",
    "    \n",
    "    # predict\n",
    "    start_predict = time.time()\n",
    "    y_pred = lr.predict(X_valid)\n",
    "    end_predict = time.time() - start_predict\n",
    "    \n",
    "    # metrics\n",
    "    accuracy = lr.score(X_valid, y_valid)\n",
    "    roc = roc_auc_score(y_true=y_valid, y_score=y_pred)\n",
    "    precision = precision_score(y_true=y_valid, y_pred=y_pred)\n",
    "    recall = recall_score(y_true=y_valid, y_pred=y_pred)\n",
    "    f1 = f1_score(y_true=y_valid, y_pred=y_pred)\n",
    "    \n",
    "    # save params\n",
    "    mlflow.log_param('penalty', params['penalty'])\n",
    "    \n",
    "    # save metrics\n",
    "    mlflow.log_metric('accuracy', accuracy)\n",
    "    mlflow.log_metric('precision', precision)\n",
    "    mlflow.log_metric('recall', recall)\n",
    "    mlflow.log_metric('f1_score', f1)\n",
    "    mlflow.log_metric('duration_training', end_fit)\n",
    "    mlflow.log_metric('duration_prediction', end_predict)\n",
    "    \n",
    "    # model\n",
    "    mlflow.sklearn.log_model(lr, 'logistic_regression')\n",
    "    \n",
    "    \n",
    "joblib.dump(lr, 'modelos/logistic_regression.pkl')    \n",
    "\n",
    "metrics_summary(y_valid, y_pred)\n",
    "confusion_matrix(y_valid, y_pred)"
   ],
   "metadata": {
    "collapsed": false,
    "pycharm": {
     "name": "#%%\n",
     "is_executing": false
    }
   }
  },
  {
   "cell_type": "markdown",
   "source": [
    "### Random Forest"
   ],
   "metadata": {
    "collapsed": false,
    "pycharm": {
     "name": "#%% md\n"
    }
   }
  },
  {
   "cell_type": "code",
   "execution_count": 8,
   "outputs": [
    {
     "name": "stdout",
     "text": [
      "El área bajo la curva ROC es: 0.5663716814159292\n",
      "La exactitud es: 0.8775\n",
      "La precisión es: 1.0\n",
      "El recall es: 0.13274336283185842\n",
      "El puntaje F1 es: 0.23437500000000003 \n",
      "\n"
     ],
     "output_type": "stream"
    },
    {
     "data": {
      "text/plain": "Predicted     0     1\nObserved             \n0          1.00  0.00\n1          0.87  0.13",
      "text/html": "<div>\n<style scoped>\n    .dataframe tbody tr th:only-of-type {\n        vertical-align: middle;\n    }\n\n    .dataframe tbody tr th {\n        vertical-align: top;\n    }\n\n    .dataframe thead th {\n        text-align: right;\n    }\n</style>\n<table border=\"1\" class=\"dataframe\">\n  <thead>\n    <tr style=\"text-align: right;\">\n      <th>Predicted</th>\n      <th>0</th>\n      <th>1</th>\n    </tr>\n    <tr>\n      <th>Observed</th>\n      <th></th>\n      <th></th>\n    </tr>\n  </thead>\n  <tbody>\n    <tr>\n      <th>0</th>\n      <td>1.00</td>\n      <td>0.00</td>\n    </tr>\n    <tr>\n      <th>1</th>\n      <td>0.87</td>\n      <td>0.13</td>\n    </tr>\n  </tbody>\n</table>\n</div>"
     },
     "metadata": {},
     "output_type": "execute_result",
     "execution_count": 8
    }
   ],
   "source": [
    "params = {\n",
    "    'n_estimators': 100,\n",
    "    'max_depth': 5,\n",
    "    'oob_score': True,\n",
    "    'random_state': SEED\n",
    "}\n",
    "\n",
    "with mlflow.start_run(run_name='random forest'):\n",
    "    # fit\n",
    "    start_fit = time.time()\n",
    "    rf = Pipeline([('preprocessing', preprocessing),\n",
    "                   ('estimator', RandomForestClassifier(**params))]).fit(X_train, y_train)\n",
    "    end_fit = time.time() - start_fit\n",
    "    \n",
    "    # predict\n",
    "    start_predict = time.time()\n",
    "    y_pred = rf.predict(X_valid)\n",
    "    end_predict = time.time() - start_predict\n",
    "    \n",
    "    # metrics\n",
    "    accuracy = rf.score(X_valid, y_valid)\n",
    "    roc_auc = roc_auc_score(y_true=y_valid, y_score=y_pred)\n",
    "    precision = precision_score(y_true=y_valid, y_pred=y_pred)\n",
    "    recall = recall_score(y_true=y_valid, y_pred=y_pred)\n",
    "    f1 = f1_score(y_true=y_valid, y_pred=y_pred)\n",
    "    \n",
    "    # save params\n",
    "    mlflow.log_param('n_estimators', params['n_estimators'])\n",
    "    mlflow.log_param('max_depth', params['max_depth'])\n",
    "    mlflow.log_param('oob_score', params['oob_score'])\n",
    "    \n",
    "    # save metrics\n",
    "    mlflow.log_metric('accuracy', accuracy)\n",
    "    mlflow.log_metric('precision', precision)\n",
    "    mlflow.log_metric('recall', recall)\n",
    "    mlflow.log_metric('f1_score', f1)\n",
    "    mlflow.log_metric('duration_training', end_fit)\n",
    "    mlflow.log_metric('duration_prediction', end_predict)\n",
    "    \n",
    "    # model\n",
    "    mlflow.sklearn.log_model(rf, 'random_forest')\n",
    "    \n",
    "joblib.dump(rf, 'modelos/random_forest.pkl')\n",
    "\n",
    "metrics_summary(y_valid, y_pred)\n",
    "confusion_matrix(y_valid, y_pred)"
   ],
   "metadata": {
    "collapsed": false,
    "pycharm": {
     "name": "#%%\n",
     "is_executing": false
    }
   }
  },
  {
   "cell_type": "markdown",
   "source": [
    "### Gradient Boosting"
   ],
   "metadata": {
    "collapsed": false,
    "pycharm": {
     "name": "#%% md\n"
    }
   }
  },
  {
   "cell_type": "code",
   "execution_count": 9,
   "outputs": [
    {
     "name": "stdout",
     "text": [
      "El área bajo la curva ROC es: 0.7692416689209207\n",
      "La exactitud es: 0.9275\n",
      "La precisión es: 0.8985507246376812\n",
      "El recall es: 0.5486725663716814\n",
      "El puntaje F1 es: 0.6813186813186812 \n",
      "\n"
     ],
     "output_type": "stream"
    },
    {
     "data": {
      "text/plain": "Predicted     0     1\nObserved             \n0          0.99  0.01\n1          0.45  0.55",
      "text/html": "<div>\n<style scoped>\n    .dataframe tbody tr th:only-of-type {\n        vertical-align: middle;\n    }\n\n    .dataframe tbody tr th {\n        vertical-align: top;\n    }\n\n    .dataframe thead th {\n        text-align: right;\n    }\n</style>\n<table border=\"1\" class=\"dataframe\">\n  <thead>\n    <tr style=\"text-align: right;\">\n      <th>Predicted</th>\n      <th>0</th>\n      <th>1</th>\n    </tr>\n    <tr>\n      <th>Observed</th>\n      <th></th>\n      <th></th>\n    </tr>\n  </thead>\n  <tbody>\n    <tr>\n      <th>0</th>\n      <td>0.99</td>\n      <td>0.01</td>\n    </tr>\n    <tr>\n      <th>1</th>\n      <td>0.45</td>\n      <td>0.55</td>\n    </tr>\n  </tbody>\n</table>\n</div>"
     },
     "metadata": {},
     "output_type": "execute_result",
     "execution_count": 9
    }
   ],
   "source": [
    "params = {\n",
    "    'n_estimators': 100,\n",
    "    'learning_rate': 0.09,\n",
    "    'max_depth': 5,\n",
    "    'subsample': 0.7,\n",
    "    'random_state': SEED\n",
    "}\n",
    "\n",
    "with mlflow.start_run(run_name='gradient boosting'):\n",
    "    # fit\n",
    "    start_fit = time.time()\n",
    "    gb = Pipeline([('preprocessing', preprocessing),\n",
    "                   ('estimator', GradientBoostingClassifier(**params))]).fit(X_train, y_train)\n",
    "    end_fit = time.time() - start_fit\n",
    "    \n",
    "    # predict\n",
    "    start_predict = time.time()\n",
    "    y_pred = gb.predict(X_valid)\n",
    "    end_predict = time.time() - start_predict\n",
    "    \n",
    "    # metrics\n",
    "    accuracy = gb.score(X_valid, y_valid)\n",
    "    roc_auc = roc_auc_score(y_true=y_valid, y_score=y_pred)\n",
    "    precision = precision_score(y_true=y_valid, y_pred=y_pred)\n",
    "    recall = recall_score(y_true=y_valid, y_pred=y_pred)\n",
    "    f1 = f1_score(y_true=y_valid, y_pred=y_pred)\n",
    "    \n",
    "    # save params\n",
    "    mlflow.log_param('n_estimators', params['n_estimators'])\n",
    "    mlflow.log_param('learning_rate', params['learning_rate'])\n",
    "    mlflow.log_param('max_depth', params['max_depth'])\n",
    "    mlflow.log_param('subsample', params['subsample'])\n",
    "    \n",
    "    # save metrics\n",
    "    mlflow.log_metric('accuracy', accuracy)\n",
    "    mlflow.log_metric('precision', precision)\n",
    "    mlflow.log_metric('recall', recall)\n",
    "    mlflow.log_metric('f1_score', f1)\n",
    "    mlflow.log_metric('duration_training', end_fit)\n",
    "    mlflow.log_metric('duration_prediction', end_predict)\n",
    "    \n",
    "    # model\n",
    "    mlflow.sklearn.log_model(gb, 'gradient_boosting')\n",
    "\n",
    "joblib.dump(gb, 'modelos/gradient_boosting.pkl')\n",
    "\n",
    "metrics_summary(y_valid, y_pred)\n",
    "confusion_matrix(y_valid, y_pred)"
   ],
   "metadata": {
    "collapsed": false,
    "pycharm": {
     "name": "#%%\n",
     "is_executing": false
    }
   }
  },
  {
   "cell_type": "markdown",
   "source": [
    "### XGBoost"
   ],
   "metadata": {
    "collapsed": false,
    "pycharm": {
     "name": "#%% md\n"
    }
   }
  },
  {
   "cell_type": "code",
   "execution_count": 10,
   "outputs": [
    {
     "name": "stdout",
     "text": [
      "El área bajo la curva ROC es: 0.7706972729966122\n",
      "La exactitud es: 0.93\n",
      "La precisión es: 0.9253731343283582\n",
      "El recall es: 0.5486725663716814\n",
      "El puntaje F1 es: 0.6888888888888888 \n",
      "\n"
     ],
     "output_type": "stream"
    },
    {
     "data": {
      "text/plain": "Predicted     0     1\nObserved             \n0          0.99  0.01\n1          0.45  0.55",
      "text/html": "<div>\n<style scoped>\n    .dataframe tbody tr th:only-of-type {\n        vertical-align: middle;\n    }\n\n    .dataframe tbody tr th {\n        vertical-align: top;\n    }\n\n    .dataframe thead th {\n        text-align: right;\n    }\n</style>\n<table border=\"1\" class=\"dataframe\">\n  <thead>\n    <tr style=\"text-align: right;\">\n      <th>Predicted</th>\n      <th>0</th>\n      <th>1</th>\n    </tr>\n    <tr>\n      <th>Observed</th>\n      <th></th>\n      <th></th>\n    </tr>\n  </thead>\n  <tbody>\n    <tr>\n      <th>0</th>\n      <td>0.99</td>\n      <td>0.01</td>\n    </tr>\n    <tr>\n      <th>1</th>\n      <td>0.45</td>\n      <td>0.55</td>\n    </tr>\n  </tbody>\n</table>\n</div>"
     },
     "metadata": {},
     "output_type": "execute_result",
     "execution_count": 10
    }
   ],
   "source": [
    "params = {\n",
    "    'n_estimators': 100,\n",
    "    'max_depth': 5,\n",
    "    'subsample': 0.7,\n",
    "    'learning_rate': 0.09,\n",
    "    'random_state': SEED\n",
    "}\n",
    "\n",
    "with mlflow.start_run(run_name='xgboosting'):\n",
    "    # fit\n",
    "    start_fit = time.time()\n",
    "    xgb = Pipeline([('preprocessing', preprocessing),\n",
    "                    ('estimator', XGBClassifier(**params))]).fit(X_train, y_train)\n",
    "    end_fit = time.time() - start_fit\n",
    "    \n",
    "    # predict\n",
    "    start_predict = time.time()\n",
    "    y_pred = xgb.predict(X_valid)\n",
    "    end_predict = time.time() - start_predict\n",
    "    \n",
    "    # metrics\n",
    "    accuracy = xgb.score(X_valid, y_valid)\n",
    "    roc_auc = roc_auc_score(y_true=y_valid, y_score=y_pred)\n",
    "    precision = precision_score(y_true=y_valid, y_pred=y_pred)\n",
    "    recall = recall_score(y_true=y_valid, y_pred=y_pred)\n",
    "    f1 = f1_score(y_true=y_valid, y_pred=y_pred)\n",
    "    \n",
    "    # save params\n",
    "    mlflow.log_param('n_estimators', params['n_estimators'])\n",
    "    mlflow.log_param('learning_rate', params['learning_rate'])\n",
    "    mlflow.log_param('max_depth', params['max_depth'])\n",
    "    mlflow.log_param('subsample', params['subsample'])\n",
    "    \n",
    "    # save metrics\n",
    "    mlflow.log_metric('accuracy', accuracy)\n",
    "    mlflow.log_metric('precision', precision)\n",
    "    mlflow.log_metric('recall', recall)\n",
    "    mlflow.log_metric('f1_score', f1)\n",
    "    mlflow.log_metric('duration_training', end_fit)\n",
    "    mlflow.log_metric('duration_prediction', end_predict)\n",
    "    \n",
    "    # model\n",
    "    mlflow.sklearn.log_model(xgb, 'xgboost')\n",
    "\n",
    "joblib.dump(xgb, 'modelos/xgboost.pkl')\n",
    "\n",
    "metrics_summary(y_valid, y_pred)\n",
    "confusion_matrix(y_valid, y_pred)"
   ],
   "metadata": {
    "collapsed": false,
    "pycharm": {
     "name": "#%%\n",
     "is_executing": false
    }
   }
  },
  {
   "cell_type": "markdown",
   "source": [
    "## Estimación del modelo usando SMOTE"
   ],
   "metadata": {
    "collapsed": false,
    "pycharm": {
     "name": "#%% md\n",
     "is_executing": true
    }
   }
  },
  {
   "cell_type": "code",
   "execution_count": 11,
   "outputs": [],
   "source": [
    "preprocessing = preprocessing.fit(X_train)\n",
    "joblib.dump(preprocessing, 'modelos/preprocessing.pkl')\n",
    "\n",
    "X_train = preprocessing.transform(X_train)\n",
    "X_valid = preprocessing.transform(X_valid)\n",
    "\n",
    "smote = SMOTE(random_state=SEED)\n",
    "X_train, y_train = smote.fit_resample(X_train, y_train)"
   ],
   "metadata": {
    "collapsed": false,
    "pycharm": {
     "name": "#%%\n",
     "is_executing": false
    }
   }
  },
  {
   "cell_type": "code",
   "source": [
    "## Regresión Logística"
   ],
   "metadata": {
    "collapsed": false,
    "pycharm": {
     "name": "#%% md \n",
     "is_executing": false
    }
   },
   "execution_count": 12,
   "outputs": []
  },
  {
   "cell_type": "code",
   "execution_count": 13,
   "outputs": [
    {
     "name": "stdout",
     "text": [
      "El área bajo la curva ROC es: 0.700184204763561\n",
      "La exactitud es: 0.72\n",
      "La precisión es: 0.2889733840304182\n",
      "El recall es: 0.672566371681416\n",
      "El puntaje F1 es: 0.40425531914893614 \n",
      "\n"
     ],
     "output_type": "stream"
    },
    {
     "data": {
      "text/plain": "Predicted     0     1\nObserved             \n0          0.73  0.27\n1          0.33  0.67",
      "text/html": "<div>\n<style scoped>\n    .dataframe tbody tr th:only-of-type {\n        vertical-align: middle;\n    }\n\n    .dataframe tbody tr th {\n        vertical-align: top;\n    }\n\n    .dataframe thead th {\n        text-align: right;\n    }\n</style>\n<table border=\"1\" class=\"dataframe\">\n  <thead>\n    <tr style=\"text-align: right;\">\n      <th>Predicted</th>\n      <th>0</th>\n      <th>1</th>\n    </tr>\n    <tr>\n      <th>Observed</th>\n      <th></th>\n      <th></th>\n    </tr>\n  </thead>\n  <tbody>\n    <tr>\n      <th>0</th>\n      <td>0.73</td>\n      <td>0.27</td>\n    </tr>\n    <tr>\n      <th>1</th>\n      <td>0.33</td>\n      <td>0.67</td>\n    </tr>\n  </tbody>\n</table>\n</div>"
     },
     "metadata": {},
     "output_type": "execute_result",
     "execution_count": 13
    }
   ],
   "source": [
    "params = {\n",
    "    'random_state': SEED,\n",
    "    'penalty': 'l2'\n",
    "}\n",
    "\n",
    "with mlflow.start_run(run_name='logistic regression smote'):\n",
    "    # fit\n",
    "    start_fit = time.time()\n",
    "    lr = LogisticRegression(**params).fit(X_train, y_train)\n",
    "    end_fit = time.time() - start_fit\n",
    "    \n",
    "    # predict\n",
    "    start_predict = time.time()\n",
    "    y_pred = lr.predict(X_valid)\n",
    "    end_predict = time.time() - start_predict\n",
    "    \n",
    "    # metrics\n",
    "    accuracy = lr.score(X_valid, y_valid)\n",
    "    roc_auc = roc_auc_score(y_true=y_valid, y_score=y_pred)\n",
    "    precision = precision_score(y_true=y_valid, y_pred=y_pred)\n",
    "    recall = recall_score(y_true=y_valid, y_pred=y_pred)\n",
    "    f1 = f1_score(y_true=y_valid, y_pred=y_pred)\n",
    "    \n",
    "    # save params\n",
    "    mlflow.log_param('penalty', params['penalty'])\n",
    "    \n",
    "    # save metrics\n",
    "    mlflow.log_metric('accuracy', accuracy)\n",
    "    mlflow.log_metric('precision', precision)\n",
    "    mlflow.log_metric('recall', recall)\n",
    "    mlflow.log_metric('f1_score', f1)\n",
    "    mlflow.log_metric('roc_auc', roc_auc)\n",
    "    mlflow.log_metric('duration_training', end_fit)\n",
    "    mlflow.log_metric('duration_prediction', end_predict)\n",
    "    \n",
    "    # model\n",
    "    mlflow.sklearn.log_model(lr, 'logistic_regression_smote')\n",
    "    \n",
    "joblib.dump(lr, 'modelos/logistic_regression.pkl')\n",
    "\n",
    "metrics_summary(y_valid, y_pred)\n",
    "confusion_matrix(y_valid, y_pred)"
   ],
   "metadata": {
    "collapsed": false,
    "pycharm": {
     "name": "#%%\n",
     "is_executing": false
    }
   }
  },
  {
   "cell_type": "markdown",
   "source": [
    "### Random Forest"
   ],
   "metadata": {
    "collapsed": false
   }
  },
  {
   "cell_type": "code",
   "execution_count": 14,
   "outputs": [
    {
     "name": "stdout",
     "text": [
      "El área bajo la curva ROC es: 0.7313379964189562\n",
      "La exactitud es: 0.86875\n",
      "La precisión es: 0.5350877192982456\n",
      "El recall es: 0.5398230088495575\n",
      "El puntaje F1 es: 0.5374449339207048 \n",
      "\n"
     ],
     "output_type": "stream"
    },
    {
     "data": {
      "text/plain": "Predicted     0     1\nObserved             \n0          0.92  0.08\n1          0.46  0.54",
      "text/html": "<div>\n<style scoped>\n    .dataframe tbody tr th:only-of-type {\n        vertical-align: middle;\n    }\n\n    .dataframe tbody tr th {\n        vertical-align: top;\n    }\n\n    .dataframe thead th {\n        text-align: right;\n    }\n</style>\n<table border=\"1\" class=\"dataframe\">\n  <thead>\n    <tr style=\"text-align: right;\">\n      <th>Predicted</th>\n      <th>0</th>\n      <th>1</th>\n    </tr>\n    <tr>\n      <th>Observed</th>\n      <th></th>\n      <th></th>\n    </tr>\n  </thead>\n  <tbody>\n    <tr>\n      <th>0</th>\n      <td>0.92</td>\n      <td>0.08</td>\n    </tr>\n    <tr>\n      <th>1</th>\n      <td>0.46</td>\n      <td>0.54</td>\n    </tr>\n  </tbody>\n</table>\n</div>"
     },
     "metadata": {},
     "output_type": "execute_result",
     "execution_count": 14
    }
   ],
   "source": [
    "params = {\n",
    "    'n_estimators': 100,\n",
    "    'max_depth': 5,\n",
    "    'oob_score': True,\n",
    "    'random_state': SEED\n",
    "}\n",
    "\n",
    "with mlflow.start_run(run_name='random forest smote'):\n",
    "    # fit\n",
    "    start_fit = time.time()\n",
    "    rf = RandomForestClassifier(**params).fit(X_train, y_train)\n",
    "    end_fit = time.time() - start_fit\n",
    "    \n",
    "    # predict\n",
    "    start_predict = time.time()\n",
    "    y_pred = rf.predict(X_valid)\n",
    "    end_predict = time.time() - start_predict\n",
    "    \n",
    "    # metrics\n",
    "    accuracy = rf.score(X_valid, y_valid)\n",
    "    roc_auc = roc_auc_score(y_true=y_valid, y_score=y_pred)\n",
    "    precision = precision_score(y_true=y_valid, y_pred=y_pred)\n",
    "    recall = recall_score(y_true=y_valid, y_pred=y_pred)\n",
    "    f1 = f1_score(y_true=y_valid, y_pred=y_pred)\n",
    "    \n",
    "    # save params\n",
    "    mlflow.log_param('n_estimators', params['n_estimators'])\n",
    "    mlflow.log_param('max_depth', params['max_depth'])\n",
    "    mlflow.log_param('oob_score', params['oob_score'])\n",
    "    \n",
    "    # save metrics\n",
    "    mlflow.log_metric('accuracy', accuracy)\n",
    "    mlflow.log_metric('precision', precision)\n",
    "    mlflow.log_metric('recall', recall)\n",
    "    mlflow.log_metric('f1_score', f1)\n",
    "    mlflow.log_metric('roc_auc', roc_auc)\n",
    "    mlflow.log_metric('duration_training', end_fit)\n",
    "    mlflow.log_metric('duration_prediction', end_predict)\n",
    "    \n",
    "    # model\n",
    "    mlflow.sklearn.log_model(rf, 'random_forest_smote')\n",
    "\n",
    "joblib.dump(rf, 'modelos/random_forest_smote.pkl')\n",
    "\n",
    "metrics_summary(y_valid, y_pred)\n",
    "confusion_matrix(y_valid, y_pred)"
   ],
   "metadata": {
    "collapsed": false,
    "pycharm": {
     "name": "#%%\n",
     "is_executing": false
    }
   }
  },
  {
   "cell_type": "markdown",
   "source": [
    "### Gradient Boosting"
   ],
   "metadata": {
    "collapsed": false
   }
  },
  {
   "cell_type": "code",
   "execution_count": 15,
   "outputs": [
    {
     "name": "stdout",
     "text": [
      "El área bajo la curva ROC es: 0.772268810140279\n",
      "La exactitud es: 0.92\n",
      "La precisión es: 0.810126582278481\n",
      "El recall es: 0.5663716814159292\n",
      "El puntaje F1 es: 0.6666666666666667 \n",
      "\n"
     ],
     "output_type": "stream"
    },
    {
     "data": {
      "text/plain": "Predicted     0     1\nObserved             \n0          0.98  0.02\n1          0.43  0.57",
      "text/html": "<div>\n<style scoped>\n    .dataframe tbody tr th:only-of-type {\n        vertical-align: middle;\n    }\n\n    .dataframe tbody tr th {\n        vertical-align: top;\n    }\n\n    .dataframe thead th {\n        text-align: right;\n    }\n</style>\n<table border=\"1\" class=\"dataframe\">\n  <thead>\n    <tr style=\"text-align: right;\">\n      <th>Predicted</th>\n      <th>0</th>\n      <th>1</th>\n    </tr>\n    <tr>\n      <th>Observed</th>\n      <th></th>\n      <th></th>\n    </tr>\n  </thead>\n  <tbody>\n    <tr>\n      <th>0</th>\n      <td>0.98</td>\n      <td>0.02</td>\n    </tr>\n    <tr>\n      <th>1</th>\n      <td>0.43</td>\n      <td>0.57</td>\n    </tr>\n  </tbody>\n</table>\n</div>"
     },
     "metadata": {},
     "output_type": "execute_result",
     "execution_count": 15
    }
   ],
   "source": [
    "params = {\n",
    "    'n_estimators': 100,\n",
    "    'learning_rate': 0.09,\n",
    "    'max_depth': 5,\n",
    "    'subsample': 0.7,\n",
    "    'random_state': SEED\n",
    "}\n",
    "\n",
    "with mlflow.start_run(run_name='gradient boosting smote'):\n",
    "    # fit\n",
    "    start_fit = time.time()\n",
    "    gb = GradientBoostingClassifier(**params).fit(X_train, y_train)\n",
    "    end_fit = time.time() - start_fit\n",
    "    \n",
    "    # predict\n",
    "    start_predict = time.time()\n",
    "    y_pred = gb.predict(X_valid)\n",
    "    end_predict = time.time() - start_predict\n",
    "    \n",
    "    # metrics\n",
    "    accuracy = gb.score(X_valid, y_valid)\n",
    "    roc_auc = roc_auc_score(y_true=y_valid, y_score=y_pred)\n",
    "    precision = precision_score(y_true=y_valid, y_pred=y_pred)\n",
    "    recall = recall_score(y_true=y_valid, y_pred=y_pred)\n",
    "    f1 = f1_score(y_true=y_valid, y_pred=y_pred)\n",
    "    \n",
    "    # save params\n",
    "    mlflow.log_param('n_estimators', params['n_estimators'])\n",
    "    mlflow.log_param('learning_rate', params['learning_rate'])\n",
    "    mlflow.log_param('max_depth', params['max_depth'])\n",
    "    mlflow.log_param('subsample', params['subsample'])\n",
    "    \n",
    "    # save metrics\n",
    "    mlflow.log_metric('accuracy', accuracy)\n",
    "    mlflow.log_metric('precision', precision)\n",
    "    mlflow.log_metric('recall', recall)\n",
    "    mlflow.log_metric('f1_score', f1)\n",
    "    mlflow.log_metric('roc_auc', roc_auc)\n",
    "    mlflow.log_metric('duration_training', end_fit)\n",
    "    mlflow.log_metric('duration_prediction', end_predict)\n",
    "    \n",
    "    # model\n",
    "    mlflow.sklearn.log_model(gb, 'gradient_boosting_smote')\n",
    "\n",
    "metrics_summary(y_valid, y_pred)\n",
    "confusion_matrix(y_valid, y_pred)"
   ],
   "metadata": {
    "collapsed": false,
    "pycharm": {
     "name": "#%%\n",
     "is_executing": false
    }
   }
  },
  {
   "cell_type": "markdown",
   "source": [
    "### XGBoost"
   ],
   "metadata": {
    "collapsed": false
   }
  },
  {
   "cell_type": "code",
   "execution_count": 16,
   "outputs": [
    {
     "name": "stdout",
     "text": [
      "El área bajo la curva ROC es: 0.7803905656245572\n",
      "La exactitud es: 0.92125\n",
      "La precisión es: 0.8048780487804879\n",
      "El recall es: 0.584070796460177\n",
      "El puntaje F1 es: 0.676923076923077 \n",
      "\n"
     ],
     "output_type": "stream"
    },
    {
     "data": {
      "text/plain": "Predicted     0     1\nObserved             \n0          0.98  0.02\n1          0.42  0.58",
      "text/html": "<div>\n<style scoped>\n    .dataframe tbody tr th:only-of-type {\n        vertical-align: middle;\n    }\n\n    .dataframe tbody tr th {\n        vertical-align: top;\n    }\n\n    .dataframe thead th {\n        text-align: right;\n    }\n</style>\n<table border=\"1\" class=\"dataframe\">\n  <thead>\n    <tr style=\"text-align: right;\">\n      <th>Predicted</th>\n      <th>0</th>\n      <th>1</th>\n    </tr>\n    <tr>\n      <th>Observed</th>\n      <th></th>\n      <th></th>\n    </tr>\n  </thead>\n  <tbody>\n    <tr>\n      <th>0</th>\n      <td>0.98</td>\n      <td>0.02</td>\n    </tr>\n    <tr>\n      <th>1</th>\n      <td>0.42</td>\n      <td>0.58</td>\n    </tr>\n  </tbody>\n</table>\n</div>"
     },
     "metadata": {},
     "output_type": "execute_result",
     "execution_count": 16
    }
   ],
   "source": [
    "params = {\n",
    "    'n_estimators': 100,\n",
    "    'max_depth': 5,\n",
    "    'subsample': 0.8,\n",
    "    'learning_rate': 0.09,\n",
    "    'random_state': SEED\n",
    "}\n",
    "\n",
    "with mlflow.start_run(run_name='xgboosting smote'):\n",
    "    # fit\n",
    "    start_fit = time.time()\n",
    "    xgb = XGBClassifier(**params).fit(X_train, y_train)\n",
    "    end_fit = time.time() - start_fit\n",
    "    \n",
    "    # predict\n",
    "    start_predict = time.time()\n",
    "    y_pred = xgb.predict(X_valid)\n",
    "    end_predict = time.time() - start_predict\n",
    "    \n",
    "    # metrics\n",
    "    accuracy = xgb.score(X_valid, y_valid)\n",
    "    roc_auc = roc_auc_score(y_true=y_valid, y_score=y_pred)\n",
    "    precision = precision_score(y_true=y_valid, y_pred=y_pred)\n",
    "    recall = recall_score(y_true=y_valid, y_pred=y_pred)\n",
    "    f1 = f1_score(y_true=y_valid, y_pred=y_pred)\n",
    "    \n",
    "    # save params\n",
    "    mlflow.log_param('n_estimators', params['n_estimators'])\n",
    "    mlflow.log_param('learning_rate', params['learning_rate'])\n",
    "    mlflow.log_param('max_depth', params['max_depth'])\n",
    "    mlflow.log_param('subsample', params['subsample'])\n",
    "    \n",
    "    # save metrics\n",
    "    mlflow.log_metric('accuracy', accuracy)\n",
    "    mlflow.log_metric('precision', precision)\n",
    "    mlflow.log_metric('recall', recall)\n",
    "    mlflow.log_metric('f1_score', f1)\n",
    "    mlflow.log_metric('roc_auc', roc_auc)\n",
    "    mlflow.log_metric('duration_training', end_fit)\n",
    "    mlflow.log_metric('duration_prediction', end_predict)\n",
    "    \n",
    "    # model\n",
    "    mlflow.sklearn.log_model(xgb, 'xgboost_smote')\n",
    "\n",
    "joblib.dump(xgb, 'modelos/xgboost_smote.pkl')\n",
    "\n",
    "metrics_summary(y_valid, y_pred)\n",
    "confusion_matrix(y_valid, y_pred)"
   ],
   "metadata": {
    "collapsed": false,
    "pycharm": {
     "name": "#%%\n",
     "is_executing": false
    }
   }
  },
  {
   "cell_type": "markdown",
   "source": [
    "### Ajuste de hiperparametros"
   ],
   "metadata": {
    "collapsed": false
   }
  },
  {
   "cell_type": "code",
   "execution_count": 20,
   "outputs": [
    {
     "name": "stdout",
     "text": [
      "100%|██████████| 20/20 [02:43<00:00,  8.18s/it, best loss: 0.01054958193720168] \n"
     ],
     "output_type": "stream"
    },
    {
     "data": {
      "text/plain": "{'colsample_bytree': 0.5,\n 'learning_rate': 0.28455259632724933,\n 'max_depth': 10.0,\n 'n_estimators': 100.0,\n 'subsample': 1.0}"
     },
     "metadata": {},
     "output_type": "execute_result",
     "execution_count": 20
    }
   ],
   "source": [
    "space = {\n",
    "    'n_estimators': hp.quniform('n_estimators', 50, 200, 50),\n",
    "    'max_depth': hp.quniform('max_depth', 3, 11, 2),\n",
    "    'learning_rate': hp.uniform('learning_rate', 0.01, 0.9),\n",
    "    'subsample': hp.quniform('subsample', 0.25, 1.0, 0.25),\n",
    "    'colsample_bytree': hp.quniform('colsample_bytree', 0.25, 1.0, 0.25)\n",
    "}\n",
    "\n",
    "def objective(params):\n",
    "    params = {'n_estimators': int(params['n_estimators']),\n",
    "              'max_depth': int(params['max_depth']),\n",
    "              'learning_rate': params['learning_rate'],\n",
    "              'subsample': params['subsample'],\n",
    "              'colsample_bytree': params['colsample_bytree']}\n",
    "    xgb = XGBClassifier(**params)\n",
    "    best_score = cross_val_score(xgb, X_train, y_train, scoring='roc_auc',\n",
    "                                 cv=5, n_jobs=-1).mean()\n",
    "    loss = 1 - best_score\n",
    "    return loss\n",
    "\n",
    "best = fmin(fn=objective, space=space, max_evals=20,\n",
    "            rstate=np.random.RandomState(SEED), algo=tpe.suggest)\n",
    "best\n"
   ],
   "metadata": {
    "collapsed": false,
    "pycharm": {
     "name": "#%%\n",
     "is_executing": false
    }
   }
  },
  {
   "cell_type": "code",
   "execution_count": 23,
   "outputs": [
    {
     "name": "stdout",
     "text": [
      "El área bajo la curva ROC es: 0.7847573778516315\n",
      "La exactitud es: 0.92875\n",
      "La precisión es: 0.868421052631579\n",
      "El recall es: 0.584070796460177\n",
      "El puntaje F1 es: 0.6984126984126985 \n",
      "\n"
     ],
     "output_type": "stream"
    },
    {
     "data": {
      "text/plain": "Predicted     0     1\nObserved             \n0          0.99  0.01\n1          0.42  0.58",
      "text/html": "<div>\n<style scoped>\n    .dataframe tbody tr th:only-of-type {\n        vertical-align: middle;\n    }\n\n    .dataframe tbody tr th {\n        vertical-align: top;\n    }\n\n    .dataframe thead th {\n        text-align: right;\n    }\n</style>\n<table border=\"1\" class=\"dataframe\">\n  <thead>\n    <tr style=\"text-align: right;\">\n      <th>Predicted</th>\n      <th>0</th>\n      <th>1</th>\n    </tr>\n    <tr>\n      <th>Observed</th>\n      <th></th>\n      <th></th>\n    </tr>\n  </thead>\n  <tbody>\n    <tr>\n      <th>0</th>\n      <td>0.99</td>\n      <td>0.01</td>\n    </tr>\n    <tr>\n      <th>1</th>\n      <td>0.42</td>\n      <td>0.58</td>\n    </tr>\n  </tbody>\n</table>\n</div>"
     },
     "metadata": {},
     "output_type": "execute_result",
     "execution_count": 23
    }
   ],
   "source": [
    "params = {\n",
    "    'colsample_bytree': 0.5,\n",
    "    'learning_rate': 0.28455259632724933,\n",
    "    'max_depth': 10,\n",
    "    'n_estimators': 100,\n",
    "    'subsample': 1.0\n",
    "}\n",
    "\n",
    "with mlflow.start_run(run_name='xgboosting smote cv'):\n",
    "    # fit\n",
    "    start_fit = time.time()\n",
    "    xgb = XGBClassifier(**params).fit(X_train, y_train)\n",
    "    end_fit = time.time() - start_fit\n",
    "    \n",
    "    # predict\n",
    "    start_predict = time.time()\n",
    "    y_pred = xgb.predict(X_valid)\n",
    "    end_predict = time.time() - start_predict\n",
    "    \n",
    "    # metrics\n",
    "    accuracy = xgb.score(X_valid, y_valid)\n",
    "    roc_auc = roc_auc_score(y_true=y_valid, y_score=y_pred)\n",
    "    precision = precision_score(y_true=y_valid, y_pred=y_pred)\n",
    "    recall = recall_score(y_true=y_valid, y_pred=y_pred)\n",
    "    f1 = f1_score(y_true=y_valid, y_pred=y_pred)\n",
    "    \n",
    "    # save params\n",
    "    mlflow.log_param('n_estimators', params['n_estimators'])\n",
    "    mlflow.log_param('learning_rate', params['learning_rate'])\n",
    "    mlflow.log_param('max_depth', params['max_depth'])\n",
    "    mlflow.log_param('subsample', params['subsample'])\n",
    "    mlflow.log_param('colsample_bytree', params['colsample_bytree'])\n",
    "    \n",
    "    # save metrics\n",
    "    mlflow.log_metric('accuracy', accuracy)\n",
    "    mlflow.log_metric('precision', precision)\n",
    "    mlflow.log_metric('recall', recall)\n",
    "    mlflow.log_metric('f1_score', f1)\n",
    "    mlflow.log_metric('roc_auc', roc_auc)\n",
    "    mlflow.log_metric('duration_training', end_fit)\n",
    "    mlflow.log_metric('duration_prediction', end_predict)\n",
    "    \n",
    "    # model\n",
    "    mlflow.sklearn.log_model(xgb, 'xgboost_smote cv')\n",
    "\n",
    "joblib.dump(xgb, 'modelos/xgboost_smote_cv.pkl')\n",
    "\n",
    "metrics_summary(y_valid, y_pred)\n",
    "confusion_matrix(y_valid, y_pred)\n"
   ],
   "metadata": {
    "collapsed": false,
    "pycharm": {
     "name": "#%%\n",
     "is_executing": false
    }
   }
  },
  {
   "cell_type": "code",
   "execution_count": null,
   "outputs": [],
   "source": [
    "\n"
   ],
   "metadata": {
    "collapsed": false,
    "pycharm": {
     "name": "#%%\n"
    }
   }
  }
 ],
 "metadata": {
  "kernelspec": {
   "name": "pycharm-f0308b7b",
   "language": "python",
   "display_name": "PyCharm (Churn)"
  },
  "language_info": {
   "codemirror_mode": {
    "name": "ipython",
    "version": 2
   },
   "file_extension": ".py",
   "mimetype": "text/x-python",
   "name": "python",
   "nbconvert_exporter": "python",
   "pygments_lexer": "ipython2",
   "version": "2.7.6"
  },
  "pycharm": {
   "stem_cell": {
    "cell_type": "raw",
    "source": [],
    "metadata": {
     "collapsed": false
    }
   }
  }
 },
 "nbformat": 4,
 "nbformat_minor": 0
}