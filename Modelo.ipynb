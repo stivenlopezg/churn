{
 "cells": [
  {
   "cell_type": "code",
   "execution_count": 1,
   "metadata": {
    "collapsed": true,
    "pycharm": {
     "is_executing": false
    }
   },
   "outputs": [],
   "source": [
    "import time\n",
    "import joblib\n",
    "import pandas as pd\n",
    "import mlflow\n",
    "import mlflow.sklearn\n",
    "from classification_model.preprocessing import ColumnSelector, ConvertDtypes, \\\n",
    "                                               GetDummies, GetDataFrame, Mapper\n",
    "from classification_model.config import NUMERICAL_FEATURES, CATEGORICAL_FEATURES, \\\n",
    "                                        FEATURES, TARGET, MAP\n",
    "from classification_model.evaluation import confusion_matrix, metrics_summary\n",
    "from sklearn.preprocessing import StandardScaler\n",
    "from sklearn.model_selection import train_test_split\n",
    "from sklearn.linear_model import LogisticRegression\n",
    "from sklearn.ensemble import RandomForestClassifier, GradientBoostingClassifier\n",
    "from sklearn.pipeline import Pipeline, FeatureUnion\n",
    "from sklearn.metrics import precision_score, recall_score, f1_score\n",
    "from xgboost import XGBClassifier, plot_importance\n",
    "import warnings\n",
    "warnings.filterwarnings('ignore')\n",
    "\n",
    "experiment_name = 'churn'\n",
    "mlflow.set_experiment(experiment_name)\n",
    "\n",
    "pd.set_option('max_columns', 500)\n",
    "pd.set_option('max_rows', 500)"
   ]
  },
  {
   "cell_type": "code",
   "execution_count": 2,
   "outputs": [
    {
     "data": {
      "text/plain": "     state  account length  area code  phone number international plan  \\\n0        5            54.0        510          1724                  0   \n1       41            91.0        415          1590                  0   \n2       18           137.0        408          3793                  0   \n3497    24           138.0        415          4239                  0   \n3498    15           117.0        415          1492                  1   \n3499    13           123.0        415          4959                  0   \n\n     voice mail plan  number vmail messages  total day minutes  \\\n0                  1                   39.0              117.6   \n1                  0                    0.0              153.0   \n2                  0                    0.0              151.8   \n3497               1                   29.0              190.1   \n3498               1                   22.0              196.0   \n3499               0                    0.0              132.2   \n\n      total day calls  total day charge  total eve minutes  total eve calls  \\\n0                82.0             19.99              159.2             60.0   \n1               123.0             26.01              141.1            127.0   \n2                90.0             25.81              229.6             68.0   \n3497             87.0             32.32              223.2            123.0   \n3498             82.0             33.32              322.7             82.0   \n3499            122.0             22.47              169.9            101.0   \n\n      total eve charge  total night minutes  total night calls  \\\n0                13.53                236.4              113.0   \n1                11.99                171.5               76.0   \n2                19.52                171.8              122.0   \n3497             18.97                256.2              130.0   \n3498             27.43                225.6              120.0   \n3499             14.44                150.1              123.0   \n\n      total night charge  total intl minutes  total intl calls  \\\n0                  10.64                11.3              10.0   \n1                   7.72                10.3              15.0   \n2                   7.73                10.8               5.0   \n3497               11.53                14.2               6.0   \n3498               10.15                 3.7               5.0   \n3499                6.75                12.9              11.0   \n\n      total intl charge  number customer service calls  target  \n0                  3.05                            2.0       0  \n1                  2.78                            1.0       1  \n2                  2.92                            2.0       0  \n3497               3.83                            0.0       0  \n3498               1.00                            1.0       0  \n3499               3.48                            3.0       1  ",
      "text/html": "<div>\n<style scoped>\n    .dataframe tbody tr th:only-of-type {\n        vertical-align: middle;\n    }\n\n    .dataframe tbody tr th {\n        vertical-align: top;\n    }\n\n    .dataframe thead th {\n        text-align: right;\n    }\n</style>\n<table border=\"1\" class=\"dataframe\">\n  <thead>\n    <tr style=\"text-align: right;\">\n      <th></th>\n      <th>state</th>\n      <th>account length</th>\n      <th>area code</th>\n      <th>phone number</th>\n      <th>international plan</th>\n      <th>voice mail plan</th>\n      <th>number vmail messages</th>\n      <th>total day minutes</th>\n      <th>total day calls</th>\n      <th>total day charge</th>\n      <th>total eve minutes</th>\n      <th>total eve calls</th>\n      <th>total eve charge</th>\n      <th>total night minutes</th>\n      <th>total night calls</th>\n      <th>total night charge</th>\n      <th>total intl minutes</th>\n      <th>total intl calls</th>\n      <th>total intl charge</th>\n      <th>number customer service calls</th>\n      <th>target</th>\n    </tr>\n  </thead>\n  <tbody>\n    <tr>\n      <th>0</th>\n      <td>5</td>\n      <td>54.0</td>\n      <td>510</td>\n      <td>1724</td>\n      <td>0</td>\n      <td>1</td>\n      <td>39.0</td>\n      <td>117.6</td>\n      <td>82.0</td>\n      <td>19.99</td>\n      <td>159.2</td>\n      <td>60.0</td>\n      <td>13.53</td>\n      <td>236.4</td>\n      <td>113.0</td>\n      <td>10.64</td>\n      <td>11.3</td>\n      <td>10.0</td>\n      <td>3.05</td>\n      <td>2.0</td>\n      <td>0</td>\n    </tr>\n    <tr>\n      <th>1</th>\n      <td>41</td>\n      <td>91.0</td>\n      <td>415</td>\n      <td>1590</td>\n      <td>0</td>\n      <td>0</td>\n      <td>0.0</td>\n      <td>153.0</td>\n      <td>123.0</td>\n      <td>26.01</td>\n      <td>141.1</td>\n      <td>127.0</td>\n      <td>11.99</td>\n      <td>171.5</td>\n      <td>76.0</td>\n      <td>7.72</td>\n      <td>10.3</td>\n      <td>15.0</td>\n      <td>2.78</td>\n      <td>1.0</td>\n      <td>1</td>\n    </tr>\n    <tr>\n      <th>2</th>\n      <td>18</td>\n      <td>137.0</td>\n      <td>408</td>\n      <td>3793</td>\n      <td>0</td>\n      <td>0</td>\n      <td>0.0</td>\n      <td>151.8</td>\n      <td>90.0</td>\n      <td>25.81</td>\n      <td>229.6</td>\n      <td>68.0</td>\n      <td>19.52</td>\n      <td>171.8</td>\n      <td>122.0</td>\n      <td>7.73</td>\n      <td>10.8</td>\n      <td>5.0</td>\n      <td>2.92</td>\n      <td>2.0</td>\n      <td>0</td>\n    </tr>\n    <tr>\n      <th>3497</th>\n      <td>24</td>\n      <td>138.0</td>\n      <td>415</td>\n      <td>4239</td>\n      <td>0</td>\n      <td>1</td>\n      <td>29.0</td>\n      <td>190.1</td>\n      <td>87.0</td>\n      <td>32.32</td>\n      <td>223.2</td>\n      <td>123.0</td>\n      <td>18.97</td>\n      <td>256.2</td>\n      <td>130.0</td>\n      <td>11.53</td>\n      <td>14.2</td>\n      <td>6.0</td>\n      <td>3.83</td>\n      <td>0.0</td>\n      <td>0</td>\n    </tr>\n    <tr>\n      <th>3498</th>\n      <td>15</td>\n      <td>117.0</td>\n      <td>415</td>\n      <td>1492</td>\n      <td>1</td>\n      <td>1</td>\n      <td>22.0</td>\n      <td>196.0</td>\n      <td>82.0</td>\n      <td>33.32</td>\n      <td>322.7</td>\n      <td>82.0</td>\n      <td>27.43</td>\n      <td>225.6</td>\n      <td>120.0</td>\n      <td>10.15</td>\n      <td>3.7</td>\n      <td>5.0</td>\n      <td>1.00</td>\n      <td>1.0</td>\n      <td>0</td>\n    </tr>\n    <tr>\n      <th>3499</th>\n      <td>13</td>\n      <td>123.0</td>\n      <td>415</td>\n      <td>4959</td>\n      <td>0</td>\n      <td>0</td>\n      <td>0.0</td>\n      <td>132.2</td>\n      <td>122.0</td>\n      <td>22.47</td>\n      <td>169.9</td>\n      <td>101.0</td>\n      <td>14.44</td>\n      <td>150.1</td>\n      <td>123.0</td>\n      <td>6.75</td>\n      <td>12.9</td>\n      <td>11.0</td>\n      <td>3.48</td>\n      <td>3.0</td>\n      <td>1</td>\n    </tr>\n  </tbody>\n</table>\n</div>"
     },
     "metadata": {},
     "output_type": "execute_result",
     "execution_count": 2
    }
   ],
   "source": [
    "dtypes = {'state': 'category', 'area code': int, 'international plan': 'category',\n",
    "          'voice mail plan': 'category'}\n",
    "data = pd.read_csv('Data/train.csv', sep=';', dtype=dtypes)\n",
    "data.head(3).append(data.tail(3))"
   ],
   "metadata": {
    "collapsed": false,
    "pycharm": {
     "name": "#%%\n",
     "is_executing": false
    }
   }
  },
  {
   "cell_type": "code",
   "execution_count": 3,
   "outputs": [
    {
     "name": "stdout",
     "text": [
      "<class 'pandas.core.frame.DataFrame'>\n",
      "RangeIndex: 3500 entries, 0 to 3499\n",
      "Data columns (total 21 columns):\n",
      "state                            3500 non-null category\n",
      "account length                   3500 non-null float64\n",
      "area code                        3500 non-null int64\n",
      "phone number                     3500 non-null int64\n",
      "international plan               3500 non-null category\n",
      "voice mail plan                  3500 non-null category\n",
      "number vmail messages            3500 non-null float64\n",
      "total day minutes                3500 non-null float64\n",
      "total day calls                  3500 non-null float64\n",
      "total day charge                 3500 non-null float64\n",
      "total eve minutes                3500 non-null float64\n",
      "total eve calls                  3500 non-null float64\n",
      "total eve charge                 3500 non-null float64\n",
      "total night minutes              3500 non-null float64\n",
      "total night calls                3500 non-null float64\n",
      "total night charge               3500 non-null float64\n",
      "total intl minutes               3500 non-null float64\n",
      "total intl calls                 3500 non-null float64\n",
      "total intl charge                3500 non-null float64\n",
      "number customer service calls    3500 non-null float64\n",
      "target                           3500 non-null int64\n",
      "dtypes: category(3), float64(15), int64(3)\n",
      "memory usage: 505.6 KB\n"
     ],
     "output_type": "stream"
    }
   ],
   "source": [
    "data.info()"
   ],
   "metadata": {
    "collapsed": false,
    "pycharm": {
     "name": "#%%\n",
     "is_executing": false
    }
   }
  },
  {
   "cell_type": "code",
   "execution_count": 4,
   "outputs": [],
   "source": [
    "global_transformation = Pipeline([('selector', ColumnSelector(columns=NUMERICAL_FEATURES + CATEGORICAL_FEATURES)),\n",
    "                                  ('map_1', Mapper(column='international plan', map=MAP)),\n",
    "                                  ('map_2', Mapper(column='voice mail plan', map=MAP)),\n",
    "                                  ('convert_dtypes', ConvertDtypes(numerical=NUMERICAL_FEATURES,\n",
    "                                                                   categorical=CATEGORICAL_FEATURES))])\n",
    "\n",
    "numerical_transformations = Pipeline([('selector', ColumnSelector(columns=NUMERICAL_FEATURES)),\n",
    "                                      ('standar', StandardScaler()),\n",
    "                                      ('dataframe', GetDataFrame(columns=NUMERICAL_FEATURES))])\n",
    "\n",
    "categorical_transformations = Pipeline([('selector', ColumnSelector(columns=CATEGORICAL_FEATURES)),\n",
    "                                        ('ohe', GetDummies(columns=CATEGORICAL_FEATURES))])"
   ],
   "metadata": {
    "collapsed": false,
    "pycharm": {
     "name": "#%%\n",
     "is_executing": false
    }
   }
  },
  {
   "cell_type": "code",
   "execution_count": 5,
   "outputs": [],
   "source": [
    "preprocessing = Pipeline([('global', global_transformation),\n",
    "                          ('features', FeatureUnion([\n",
    "                              ('numeric', numerical_transformations),\n",
    "                              ('category', categorical_transformations)\n",
    "                          ])),\n",
    "                          ('dataframe', GetDataFrame(columns=FEATURES))])"
   ],
   "metadata": {
    "collapsed": false,
    "pycharm": {
     "name": "#%%\n",
     "is_executing": false
    }
   }
  },
  {
   "cell_type": "markdown",
   "source": [
    "## Construcción de los modelos"
   ],
   "metadata": {
    "collapsed": false,
    "pycharm": {
     "name": "#%% md\n"
    }
   }
  },
  {
   "cell_type": "code",
   "execution_count": 6,
   "outputs": [
    {
     "name": "stdout",
     "text": [
      "El conjunto de entranamiento tiene 2800 observaciones, y 20 variables\n",
      "El conjunto de validación tiene 700 observaciones, y 20 variables\n"
     ],
     "output_type": "stream"
    }
   ],
   "source": [
    "label = data.pop(TARGET)\n",
    "\n",
    "X = data\n",
    "y = label\n",
    "\n",
    "X_train, X_valid, y_train, y_valid = train_test_split(X, y, test_size=0.2, random_state=42, stratify=label)\n",
    "\n",
    "print('El conjunto de entranamiento tiene {} observaciones, y {} variables'.format(X_train.shape[0],\n",
    "                                                                                            X_train.shape[1]))\n",
    "print('El conjunto de validación tiene {} observaciones, y {} variables'.format(X_valid.shape[0],\n",
    "                                                                            X_valid.shape[1]))"
   ],
   "metadata": {
    "collapsed": false,
    "pycharm": {
     "name": "#%%\n",
     "is_executing": false
    }
   }
  },
  {
   "cell_type": "markdown",
   "source": [
    "### Regresión Logística"
   ],
   "metadata": {
    "collapsed": false,
    "pycharm": {
     "name": "#%% md\n"
    }
   }
  },
  {
   "cell_type": "code",
   "execution_count": 7,
   "outputs": [
    {
     "name": "stdout",
     "text": [
      "El área bajo la curva ROC es: 0.5413536361955663\n",
      "La exactitud es: 0.8571428571428571\n",
      "La precisión es: 0.47619047619047616\n",
      "El recall es: 0.10101010101010101\n",
      "El puntaje F1 es: 0.16666666666666666 \n",
      "\n"
     ],
     "output_type": "stream"
    },
    {
     "data": {
      "text/plain": "Predicted    0   1\nObserved          \n0          590  11\n1           89  10",
      "text/html": "<div>\n<style scoped>\n    .dataframe tbody tr th:only-of-type {\n        vertical-align: middle;\n    }\n\n    .dataframe tbody tr th {\n        vertical-align: top;\n    }\n\n    .dataframe thead th {\n        text-align: right;\n    }\n</style>\n<table border=\"1\" class=\"dataframe\">\n  <thead>\n    <tr style=\"text-align: right;\">\n      <th>Predicted</th>\n      <th>0</th>\n      <th>1</th>\n    </tr>\n    <tr>\n      <th>Observed</th>\n      <th></th>\n      <th></th>\n    </tr>\n  </thead>\n  <tbody>\n    <tr>\n      <th>0</th>\n      <td>590</td>\n      <td>11</td>\n    </tr>\n    <tr>\n      <th>1</th>\n      <td>89</td>\n      <td>10</td>\n    </tr>\n  </tbody>\n</table>\n</div>"
     },
     "metadata": {},
     "output_type": "execute_result",
     "execution_count": 7
    }
   ],
   "source": [
    "params = {\n",
    "    'penalty': 'l2',\n",
    "    'random_state': 42\n",
    "}\n",
    "\n",
    "with mlflow.start_run():\n",
    "    # fit\n",
    "    start_fit = time.time()\n",
    "    lr = Pipeline([('preprocessing', preprocessing),\n",
    "                   ('estimator', LogisticRegression(**params))]).fit(X_train, y_train)\n",
    "    end_fit = time.time() - start_fit\n",
    "    \n",
    "    # predict\n",
    "    start_predict = time.time()\n",
    "    y_pred = lr.predict(X_valid)\n",
    "    end_predict = time.time() - start_predict\n",
    "    \n",
    "    # metrics\n",
    "    accuracy = lr.score(X_valid, y_valid)\n",
    "    precision = precision_score(y_true=y_valid, y_pred=y_pred)\n",
    "    recall = recall_score(y_true=y_valid, y_pred=y_pred)\n",
    "    f1 = f1_score(y_true=y_valid, y_pred=y_pred)\n",
    "    \n",
    "    # save params\n",
    "    mlflow.log_param('random_state', params['random_state'])\n",
    "    mlflow.log_param('penalty', params['penalty'])\n",
    "    \n",
    "    # save metrics\n",
    "    mlflow.log_metric('accuracy', accuracy)\n",
    "    mlflow.log_metric('precision', precision)\n",
    "    mlflow.log_metric('recall', recall)\n",
    "    mlflow.log_metric('f1_score', f1)\n",
    "    mlflow.log_metric('duration_training', end_fit)\n",
    "    mlflow.log_metric('duration_prediction', end_predict)\n",
    "    \n",
    "    # model\n",
    "    mlflow.sklearn.log_model(lr, 'logistic_regression')\n",
    "\n",
    "metrics_summary(y_valid, y_pred)\n",
    "confusion_matrix(y_valid, y_pred)"
   ],
   "metadata": {
    "collapsed": false,
    "pycharm": {
     "name": "#%%\n",
     "is_executing": false
    }
   }
  },
  {
   "cell_type": "markdown",
   "source": [
    "### Random Forest"
   ],
   "metadata": {
    "collapsed": false,
    "pycharm": {
     "name": "#%% md\n"
    }
   }
  },
  {
   "cell_type": "code",
   "execution_count": 8,
   "outputs": [
    {
     "name": "stdout",
     "text": [
      "El área bajo la curva ROC es: 0.5791441872972655\n",
      "La exactitud es: 0.8785714285714286\n",
      "La precisión es: 0.8888888888888888\n",
      "El recall es: 0.16161616161616163\n",
      "El puntaje F1 es: 0.27350427350427353 \n",
      "\n"
     ],
     "output_type": "stream"
    },
    {
     "data": {
      "text/plain": "Predicted    0   1\nObserved          \n0          599   2\n1           83  16",
      "text/html": "<div>\n<style scoped>\n    .dataframe tbody tr th:only-of-type {\n        vertical-align: middle;\n    }\n\n    .dataframe tbody tr th {\n        vertical-align: top;\n    }\n\n    .dataframe thead th {\n        text-align: right;\n    }\n</style>\n<table border=\"1\" class=\"dataframe\">\n  <thead>\n    <tr style=\"text-align: right;\">\n      <th>Predicted</th>\n      <th>0</th>\n      <th>1</th>\n    </tr>\n    <tr>\n      <th>Observed</th>\n      <th></th>\n      <th></th>\n    </tr>\n  </thead>\n  <tbody>\n    <tr>\n      <th>0</th>\n      <td>599</td>\n      <td>2</td>\n    </tr>\n    <tr>\n      <th>1</th>\n      <td>83</td>\n      <td>16</td>\n    </tr>\n  </tbody>\n</table>\n</div>"
     },
     "metadata": {},
     "output_type": "execute_result",
     "execution_count": 8
    }
   ],
   "source": [
    "params = {\n",
    "    'n_estimators': 100,\n",
    "    'max_depth': 5,\n",
    "    'oob_score': True,\n",
    "    'random_state': 42\n",
    "}\n",
    "\n",
    "with mlflow.start_run():\n",
    "    # fit\n",
    "    start_fit = time.time()\n",
    "    rf = Pipeline([('preprocessing', preprocessing),\n",
    "                   ('estimator', RandomForestClassifier(**params))]).fit(X_train, y_train)\n",
    "    end_fit = time.time() - start_fit\n",
    "    \n",
    "    # predict\n",
    "    start_predict = time.time()\n",
    "    y_pred = rf.predict(X_valid)\n",
    "    end_predict = time.time() - start_predict\n",
    "    \n",
    "    # metrics\n",
    "    accuracy = rf.score(X_valid, y_valid)\n",
    "    precision = precision_score(y_true=y_valid, y_pred=y_pred)\n",
    "    recall = recall_score(y_true=y_valid, y_pred=y_pred)\n",
    "    f1 = f1_score(y_true=y_valid, y_pred=y_pred)\n",
    "    \n",
    "    # save params\n",
    "    mlflow.log_param('n_estimators', params['n_estimators'])\n",
    "    mlflow.log_param('max_depth', params['max_depth'])\n",
    "    mlflow.log_param('random_state', params['random_state'])\n",
    "    mlflow.log_param('oob_score', params['oob_score'])\n",
    "    \n",
    "    # save metrics\n",
    "    mlflow.log_metric('accuracy', accuracy)\n",
    "    mlflow.log_metric('precision', precision)\n",
    "    mlflow.log_metric('recall', recall)\n",
    "    mlflow.log_metric('f1_score', f1)\n",
    "    mlflow.log_metric('duration_training', end_fit)\n",
    "    mlflow.log_metric('duration_prediction', end_predict)\n",
    "    \n",
    "    # model\n",
    "    mlflow.sklearn.log_model(rf, 'random_forest')\n",
    "\n",
    "metrics_summary(y_valid, y_pred)\n",
    "confusion_matrix(y_valid, y_pred)"
   ],
   "metadata": {
    "collapsed": false,
    "pycharm": {
     "name": "#%%\n",
     "is_executing": false
    }
   }
  },
  {
   "cell_type": "markdown",
   "source": [
    "### Gradient Boosting"
   ],
   "metadata": {
    "collapsed": false,
    "pycharm": {
     "name": "#%% md\n"
    }
   }
  },
  {
   "cell_type": "code",
   "execution_count": 9,
   "outputs": [
    {
     "name": "stdout",
     "text": [
      "El área bajo la curva ROC es: 0.7543067950721861\n",
      "La exactitud es: 0.9185714285714286\n",
      "La precisión es: 0.8387096774193549\n",
      "El recall es: 0.5252525252525253\n",
      "El puntaje F1 es: 0.6459627329192548 \n",
      "\n"
     ],
     "output_type": "stream"
    },
    {
     "data": {
      "text/plain": "Predicted    0   1\nObserved          \n0          591  10\n1           47  52",
      "text/html": "<div>\n<style scoped>\n    .dataframe tbody tr th:only-of-type {\n        vertical-align: middle;\n    }\n\n    .dataframe tbody tr th {\n        vertical-align: top;\n    }\n\n    .dataframe thead th {\n        text-align: right;\n    }\n</style>\n<table border=\"1\" class=\"dataframe\">\n  <thead>\n    <tr style=\"text-align: right;\">\n      <th>Predicted</th>\n      <th>0</th>\n      <th>1</th>\n    </tr>\n    <tr>\n      <th>Observed</th>\n      <th></th>\n      <th></th>\n    </tr>\n  </thead>\n  <tbody>\n    <tr>\n      <th>0</th>\n      <td>591</td>\n      <td>10</td>\n    </tr>\n    <tr>\n      <th>1</th>\n      <td>47</td>\n      <td>52</td>\n    </tr>\n  </tbody>\n</table>\n</div>"
     },
     "metadata": {},
     "output_type": "execute_result",
     "execution_count": 9
    }
   ],
   "source": [
    "params = {\n",
    "    'n_estimators': 100,\n",
    "    'learning_rate': 0.09,\n",
    "    'max_depth': 5,\n",
    "    'subsample': 0.7,\n",
    "    'random_state': 42\n",
    "}\n",
    "\n",
    "with mlflow.start_run():\n",
    "    # fit\n",
    "    start_fit = time.time()\n",
    "    gb = Pipeline([('preprocessing', preprocessing),\n",
    "                   ('estimator', GradientBoostingClassifier(**params))]).fit(X_train, y_train)\n",
    "    end_fit = time.time() - start_fit\n",
    "    \n",
    "    # predict\n",
    "    start_predict = time.time()\n",
    "    y_pred = gb.predict(X_valid)\n",
    "    end_predict = time.time() - start_predict\n",
    "    \n",
    "    # metrics\n",
    "    accuracy = gb.score(X_valid, y_valid)\n",
    "    precision = precision_score(y_true=y_valid, y_pred=y_pred)\n",
    "    recall = recall_score(y_true=y_valid, y_pred=y_pred)\n",
    "    f1 = f1_score(y_true=y_valid, y_pred=y_pred)\n",
    "    \n",
    "    # save params\n",
    "    mlflow.log_param('n_estimators', params['n_estimators'])\n",
    "    mlflow.log_param('learning_rate', params['learning_rate'])\n",
    "    mlflow.log_param('max_depth', params['max_depth'])\n",
    "    mlflow.log_param('subsample', params['subsample'])\n",
    "    mlflow.log_param('random_state', params['random_state'])\n",
    "    \n",
    "    # save metrics\n",
    "    mlflow.log_metric('accuracy', accuracy)\n",
    "    mlflow.log_metric('precision', precision)\n",
    "    mlflow.log_metric('recall', recall)\n",
    "    mlflow.log_metric('f1_score', f1)\n",
    "    mlflow.log_metric('duration_training', end_fit)\n",
    "    mlflow.log_metric('duration_prediction', end_predict)\n",
    "    \n",
    "    # model\n",
    "    mlflow.sklearn.log_model(gb, 'gradient_boosting')\n",
    "\n",
    "metrics_summary(y_valid, y_pred)\n",
    "confusion_matrix(y_valid, y_pred)"
   ],
   "metadata": {
    "collapsed": false,
    "pycharm": {
     "name": "#%%\n",
     "is_executing": false
    }
   }
  },
  {
   "cell_type": "markdown",
   "source": [
    "### XGBoost"
   ],
   "metadata": {
    "collapsed": false,
    "pycharm": {
     "name": "#%% md\n"
    }
   }
  },
  {
   "cell_type": "code",
   "execution_count": 10,
   "outputs": [
    {
     "name": "stdout",
     "text": [
      "El área bajo la curva ROC es: 0.7660716986840115\n",
      "La exactitud es: 0.9242857142857143\n",
      "La precisión es: 0.8709677419354839\n",
      "El recall es: 0.5454545454545454\n",
      "El puntaje F1 es: 0.670807453416149 \n",
      "\n"
     ],
     "output_type": "stream"
    },
    {
     "data": {
      "text/plain": "Predicted    0   1\nObserved          \n0          593   8\n1           45  54",
      "text/html": "<div>\n<style scoped>\n    .dataframe tbody tr th:only-of-type {\n        vertical-align: middle;\n    }\n\n    .dataframe tbody tr th {\n        vertical-align: top;\n    }\n\n    .dataframe thead th {\n        text-align: right;\n    }\n</style>\n<table border=\"1\" class=\"dataframe\">\n  <thead>\n    <tr style=\"text-align: right;\">\n      <th>Predicted</th>\n      <th>0</th>\n      <th>1</th>\n    </tr>\n    <tr>\n      <th>Observed</th>\n      <th></th>\n      <th></th>\n    </tr>\n  </thead>\n  <tbody>\n    <tr>\n      <th>0</th>\n      <td>593</td>\n      <td>8</td>\n    </tr>\n    <tr>\n      <th>1</th>\n      <td>45</td>\n      <td>54</td>\n    </tr>\n  </tbody>\n</table>\n</div>"
     },
     "metadata": {},
     "output_type": "execute_result",
     "execution_count": 10
    }
   ],
   "source": [
    "params = {\n",
    "    'n_estimators': 100,\n",
    "    'max_depth': 5,\n",
    "    'subsample': 0.7,\n",
    "    'learning_rate': 0.09,\n",
    "    'random_state': 42\n",
    "}\n",
    "\n",
    "with mlflow.start_run():\n",
    "    # fit\n",
    "    start_fit = time.time()\n",
    "    xgb = Pipeline([('preprocessing', preprocessing),\n",
    "                    ('estimator', XGBClassifier(**params))]).fit(X_train, y_train)\n",
    "    end_fit = time.time() - start_fit\n",
    "    \n",
    "    # predict\n",
    "    start_predict = time.time()\n",
    "    y_pred = xgb.predict(X_valid)\n",
    "    end_predict = time.time() - start_predict\n",
    "    \n",
    "    # metrics\n",
    "    accuracy = xgb.score(X_valid, y_valid)\n",
    "    precision = precision_score(y_true=y_valid, y_pred=y_pred)\n",
    "    recall = recall_score(y_true=y_valid, y_pred=y_pred)\n",
    "    f1 = f1_score(y_true=y_valid, y_pred=y_pred)\n",
    "    \n",
    "    # save params\n",
    "    mlflow.log_param('n_estimators', params['n_estimators'])\n",
    "    mlflow.log_param('learning_rate', params['learning_rate'])\n",
    "    mlflow.log_param('max_depth', params['max_depth'])\n",
    "    mlflow.log_param('subsample', params['subsample'])\n",
    "    mlflow.log_param('random_state', params['random_state'])\n",
    "    \n",
    "    # save metrics\n",
    "    mlflow.log_metric('accuracy', accuracy)\n",
    "    mlflow.log_metric('precision', precision)\n",
    "    mlflow.log_metric('recall', recall)\n",
    "    mlflow.log_metric('f1_score', f1)\n",
    "    mlflow.log_metric('duration_training', end_fit)\n",
    "    mlflow.log_metric('duration_prediction', end_predict)\n",
    "    \n",
    "    # model\n",
    "    mlflow.sklearn.log_model(xgb, 'xgboost')\n",
    "\n",
    "metrics_summary(y_valid, y_pred)\n",
    "confusion_matrix(y_valid, y_pred)"
   ],
   "metadata": {
    "collapsed": false,
    "pycharm": {
     "name": "#%%\n",
     "is_executing": false
    }
   }
  },
  {
   "cell_type": "code",
   "execution_count": 10,
   "outputs": [],
   "source": [],
   "metadata": {
    "collapsed": false,
    "pycharm": {
     "name": "#%%\n",
     "is_executing": false
    }
   }
  }
 ],
 "metadata": {
  "kernelspec": {
   "name": "pycharm-f0308b7b",
   "language": "python",
   "display_name": "PyCharm (Churn)"
  },
  "language_info": {
   "codemirror_mode": {
    "name": "ipython",
    "version": 2
   },
   "file_extension": ".py",
   "mimetype": "text/x-python",
   "name": "python",
   "nbconvert_exporter": "python",
   "pygments_lexer": "ipython2",
   "version": "2.7.6"
  },
  "pycharm": {
   "stem_cell": {
    "cell_type": "raw",
    "source": [],
    "metadata": {
     "collapsed": false
    }
   }
  }
 },
 "nbformat": 4,
 "nbformat_minor": 0
}